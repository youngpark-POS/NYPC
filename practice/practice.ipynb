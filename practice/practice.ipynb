{
 "cells": [
  {
   "cell_type": "markdown",
   "id": "092e52a1",
   "metadata": {},
   "source": [
    "# NYPC Practice Problem  \n",
    "\n",
    "We will use Min-Max tree with alpha-beta pruning for this problem."
   ]
  },
  {
   "cell_type": "markdown",
   "metadata": {},
   "source": []
  }
 ],
 "metadata": {
  "language_info": {
   "name": "python"
  }
 },
 "nbformat": 4,
 "nbformat_minor": 5
}
